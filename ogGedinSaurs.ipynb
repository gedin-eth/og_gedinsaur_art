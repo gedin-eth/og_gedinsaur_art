{
 "cells": [
  {
   "cell_type": "code",
   "execution_count": 1,
   "metadata": {},
   "outputs": [],
   "source": [
    "from PIL import Image\n",
    "from IPython.display import display \n",
    "import random\n",
    "import json\n"
   ]
  },
  {
   "cell_type": "code",
   "execution_count": null,
   "metadata": {},
   "outputs": [],
   "source": []
  },
  {
   "cell_type": "code",
   "execution_count": 2,
   "metadata": {},
   "outputs": [],
   "source": [
    "\n",
    "# Each image is made up a series of traits\n",
    "# The weightings for each trait drive the rarity and add up to 100%\n",
    "\n",
    "background = [\"Cave\", \"Fire\", \"Jungle\", \"Mountains\", \"Ocean\", \"Space\"] \n",
    "background_weights = [40, 8, 30, 5, 15, 2]\n",
    "\n",
    "dBase = [\"Blue\", \"Original\", \"White\", \"Red\", \"Pink\", \"Brown\"] \n",
    "dBase_weights = [30, 2, 15, 8, 5, 40]\n",
    "\n",
    "egg = [\"Blue\", \"Gold\", \"Orange\", \"Sky\", \"Snow\", \"Red\"] \n",
    "egg_weights = [40, 2, 30, 5, 8, 15]\n",
    "\n",
    "# Dictionary variable for each trait. \n",
    "# Eech trait corresponds to its file name\n",
    "\n",
    "background_files = {\n",
    "    \"Cave\": \"cave\",\n",
    "    \"Fire\": \"fire\",\n",
    "    \"Jungle\": \"jungle\",\n",
    "    \"Mountains\": \"mountains\",\n",
    "    \"Ocean\": \"ocean\",\n",
    "    \"Space\": \"space\"\n",
    "}\n",
    "\n",
    "dBase_files = {\n",
    "    \"Blue\": \"dinoRF_blue\",\n",
    "    \"Original\": \"dinoRF\",\n",
    "    \"White\": \"dinoRF_white\",\n",
    "    \"Red\": \"dinoRF_red\",\n",
    "    \"Pink\": \"dinoRF_pink\",\n",
    "    \"Brown\": \"dinoRF_brown\"\n",
    "}\n",
    "\n",
    "egg_files = {\n",
    "    \"Blue\": \"egg_blue\",\n",
    "    \"Gold\": \"egg_gold\",\n",
    "    \"Orange\": \"egg_orange\",\n",
    "    \"Sky\": \"egg_sky\",\n",
    "    \"Snow\": \"egg_snow\",\n",
    "    \"Red\": \"egg\"\n",
    "          \n",
    "}"
   ]
  },
  {
   "cell_type": "code",
   "execution_count": null,
   "metadata": {},
   "outputs": [],
   "source": []
  },
  {
   "cell_type": "code",
   "execution_count": 3,
   "metadata": {},
   "outputs": [],
   "source": [
    "## Generate Traits\n",
    "\n",
    "TOTAL_IMAGES = 100 # Number of random unique images we want to generate\n",
    "\n",
    "all_images = [] \n",
    "\n",
    "# A recursive function to generate unique image combinations\n",
    "def create_new_image():\n",
    "    \n",
    "    new_image = {} #\n",
    "\n",
    "    # For each trait category, select a random trait based on the weightings \n",
    "    new_image [\"Background\"] = random.choices(background, background_weights)[0]\n",
    "    new_image [\"dBase\"] = random.choices(dBase, dBase_weights)[0]\n",
    "    new_image [\"Egg\"] = random.choices(egg, egg_weights)[0]\n",
    "    \n",
    "    if new_image in all_images:\n",
    "        return create_new_image()\n",
    "    else:\n",
    "        return new_image\n",
    "    \n",
    "    \n",
    "# Generate the unique combinations based on trait weightings\n",
    "for i in range(TOTAL_IMAGES): \n",
    "    \n",
    "    new_trait_image = create_new_image()\n",
    "    \n",
    "    all_images.append(new_trait_image)"
   ]
  },
  {
   "cell_type": "code",
   "execution_count": null,
   "metadata": {},
   "outputs": [],
   "source": []
  },
  {
   "cell_type": "code",
   "execution_count": 4,
   "metadata": {},
   "outputs": [
    {
     "name": "stdout",
     "output_type": "stream",
     "text": [
      "Are all images unique? True\n"
     ]
    }
   ],
   "source": [
    "# Returns true if all images are unique\n",
    "def all_images_unique(all_images):\n",
    "    seen = list()\n",
    "    return not any(i in seen or seen.append(i) for i in all_images)\n",
    "\n",
    "print(\"Are all images unique?\", all_images_unique(all_images))"
   ]
  },
  {
   "cell_type": "code",
   "execution_count": null,
   "metadata": {},
   "outputs": [],
   "source": []
  },
  {
   "cell_type": "code",
   "execution_count": 5,
   "metadata": {},
   "outputs": [],
   "source": [
    "\n",
    "# Add token Id to each image\n",
    "i = 0\n",
    "for item in all_images:\n",
    "    item[\"tokenId\"] = i\n",
    "    i = i + 1"
   ]
  },
  {
   "cell_type": "code",
   "execution_count": 6,
   "metadata": {},
   "outputs": [
    {
     "data": {
      "text/plain": [
       "100"
      ]
     },
     "execution_count": 6,
     "metadata": {},
     "output_type": "execute_result"
    }
   ],
   "source": [
    "len(all_images)"
   ]
  },
  {
   "cell_type": "code",
   "execution_count": 7,
   "metadata": {
    "scrolled": false
   },
   "outputs": [
    {
     "name": "stdout",
     "output_type": "stream",
     "text": [
      "[{'Background': 'Cave', 'dBase': 'White', 'Egg': 'Orange', 'tokenId': 0}, {'Background': 'Jungle', 'dBase': 'Blue', 'Egg': 'Blue', 'tokenId': 1}, {'Background': 'Jungle', 'dBase': 'Red', 'Egg': 'Blue', 'tokenId': 2}, {'Background': 'Ocean', 'dBase': 'White', 'Egg': 'Red', 'tokenId': 3}, {'Background': 'Ocean', 'dBase': 'Brown', 'Egg': 'Orange', 'tokenId': 4}, {'Background': 'Jungle', 'dBase': 'Brown', 'Egg': 'Red', 'tokenId': 5}, {'Background': 'Jungle', 'dBase': 'White', 'Egg': 'Orange', 'tokenId': 6}, {'Background': 'Ocean', 'dBase': 'Blue', 'Egg': 'Snow', 'tokenId': 7}, {'Background': 'Cave', 'dBase': 'Brown', 'Egg': 'Blue', 'tokenId': 8}, {'Background': 'Cave', 'dBase': 'White', 'Egg': 'Blue', 'tokenId': 9}, {'Background': 'Cave', 'dBase': 'Blue', 'Egg': 'Snow', 'tokenId': 10}, {'Background': 'Cave', 'dBase': 'White', 'Egg': 'Sky', 'tokenId': 11}, {'Background': 'Cave', 'dBase': 'Pink', 'Egg': 'Orange', 'tokenId': 12}, {'Background': 'Cave', 'dBase': 'Blue', 'Egg': 'Blue', 'tokenId': 13}, {'Background': 'Cave', 'dBase': 'Pink', 'Egg': 'Red', 'tokenId': 14}, {'Background': 'Fire', 'dBase': 'Blue', 'Egg': 'Blue', 'tokenId': 15}, {'Background': 'Cave', 'dBase': 'Red', 'Egg': 'Blue', 'tokenId': 16}, {'Background': 'Jungle', 'dBase': 'Pink', 'Egg': 'Blue', 'tokenId': 17}, {'Background': 'Mountains', 'dBase': 'White', 'Egg': 'Red', 'tokenId': 18}, {'Background': 'Cave', 'dBase': 'Blue', 'Egg': 'Orange', 'tokenId': 19}, {'Background': 'Jungle', 'dBase': 'Red', 'Egg': 'Red', 'tokenId': 20}, {'Background': 'Ocean', 'dBase': 'Blue', 'Egg': 'Blue', 'tokenId': 21}, {'Background': 'Cave', 'dBase': 'White', 'Egg': 'Snow', 'tokenId': 22}, {'Background': 'Jungle', 'dBase': 'White', 'Egg': 'Sky', 'tokenId': 23}, {'Background': 'Cave', 'dBase': 'Brown', 'Egg': 'Orange', 'tokenId': 24}, {'Background': 'Ocean', 'dBase': 'White', 'Egg': 'Blue', 'tokenId': 25}, {'Background': 'Jungle', 'dBase': 'White', 'Egg': 'Blue', 'tokenId': 26}, {'Background': 'Cave', 'dBase': 'White', 'Egg': 'Red', 'tokenId': 27}, {'Background': 'Ocean', 'dBase': 'Pink', 'Egg': 'Orange', 'tokenId': 28}, {'Background': 'Cave', 'dBase': 'Brown', 'Egg': 'Red', 'tokenId': 29}, {'Background': 'Jungle', 'dBase': 'Brown', 'Egg': 'Orange', 'tokenId': 30}, {'Background': 'Jungle', 'dBase': 'Blue', 'Egg': 'Gold', 'tokenId': 31}, {'Background': 'Cave', 'dBase': 'Pink', 'Egg': 'Sky', 'tokenId': 32}, {'Background': 'Ocean', 'dBase': 'Blue', 'Egg': 'Orange', 'tokenId': 33}, {'Background': 'Ocean', 'dBase': 'Brown', 'Egg': 'Blue', 'tokenId': 34}, {'Background': 'Cave', 'dBase': 'Pink', 'Egg': 'Blue', 'tokenId': 35}, {'Background': 'Cave', 'dBase': 'Brown', 'Egg': 'Sky', 'tokenId': 36}, {'Background': 'Mountains', 'dBase': 'Blue', 'Egg': 'Blue', 'tokenId': 37}, {'Background': 'Fire', 'dBase': 'Brown', 'Egg': 'Blue', 'tokenId': 38}, {'Background': 'Jungle', 'dBase': 'Blue', 'Egg': 'Orange', 'tokenId': 39}, {'Background': 'Jungle', 'dBase': 'Blue', 'Egg': 'Snow', 'tokenId': 40}, {'Background': 'Jungle', 'dBase': 'Blue', 'Egg': 'Red', 'tokenId': 41}, {'Background': 'Fire', 'dBase': 'Brown', 'Egg': 'Snow', 'tokenId': 42}, {'Background': 'Fire', 'dBase': 'Red', 'Egg': 'Sky', 'tokenId': 43}, {'Background': 'Jungle', 'dBase': 'Brown', 'Egg': 'Blue', 'tokenId': 44}, {'Background': 'Jungle', 'dBase': 'Brown', 'Egg': 'Snow', 'tokenId': 45}, {'Background': 'Space', 'dBase': 'White', 'Egg': 'Blue', 'tokenId': 46}, {'Background': 'Cave', 'dBase': 'Brown', 'Egg': 'Snow', 'tokenId': 47}, {'Background': 'Fire', 'dBase': 'Blue', 'Egg': 'Snow', 'tokenId': 48}, {'Background': 'Cave', 'dBase': 'Red', 'Egg': 'Orange', 'tokenId': 49}, {'Background': 'Fire', 'dBase': 'Red', 'Egg': 'Blue', 'tokenId': 50}, {'Background': 'Mountains', 'dBase': 'Brown', 'Egg': 'Orange', 'tokenId': 51}, {'Background': 'Ocean', 'dBase': 'Red', 'Egg': 'Orange', 'tokenId': 52}, {'Background': 'Cave', 'dBase': 'Red', 'Egg': 'Red', 'tokenId': 53}, {'Background': 'Cave', 'dBase': 'White', 'Egg': 'Gold', 'tokenId': 54}, {'Background': 'Ocean', 'dBase': 'Blue', 'Egg': 'Red', 'tokenId': 55}, {'Background': 'Fire', 'dBase': 'Brown', 'Egg': 'Orange', 'tokenId': 56}, {'Background': 'Jungle', 'dBase': 'Red', 'Egg': 'Orange', 'tokenId': 57}, {'Background': 'Jungle', 'dBase': 'Red', 'Egg': 'Snow', 'tokenId': 58}, {'Background': 'Fire', 'dBase': 'Brown', 'Egg': 'Sky', 'tokenId': 59}, {'Background': 'Ocean', 'dBase': 'Brown', 'Egg': 'Red', 'tokenId': 60}, {'Background': 'Cave', 'dBase': 'Original', 'Egg': 'Snow', 'tokenId': 61}, {'Background': 'Ocean', 'dBase': 'White', 'Egg': 'Snow', 'tokenId': 62}, {'Background': 'Jungle', 'dBase': 'Pink', 'Egg': 'Orange', 'tokenId': 63}, {'Background': 'Jungle', 'dBase': 'Brown', 'Egg': 'Sky', 'tokenId': 64}, {'Background': 'Mountains', 'dBase': 'Brown', 'Egg': 'Snow', 'tokenId': 65}, {'Background': 'Jungle', 'dBase': 'Pink', 'Egg': 'Snow', 'tokenId': 66}, {'Background': 'Space', 'dBase': 'Blue', 'Egg': 'Blue', 'tokenId': 67}, {'Background': 'Jungle', 'dBase': 'White', 'Egg': 'Gold', 'tokenId': 68}, {'Background': 'Ocean', 'dBase': 'Red', 'Egg': 'Blue', 'tokenId': 69}, {'Background': 'Mountains', 'dBase': 'White', 'Egg': 'Orange', 'tokenId': 70}, {'Background': 'Jungle', 'dBase': 'White', 'Egg': 'Red', 'tokenId': 71}, {'Background': 'Ocean', 'dBase': 'White', 'Egg': 'Orange', 'tokenId': 72}, {'Background': 'Ocean', 'dBase': 'Brown', 'Egg': 'Snow', 'tokenId': 73}, {'Background': 'Cave', 'dBase': 'Blue', 'Egg': 'Red', 'tokenId': 74}, {'Background': 'Fire', 'dBase': 'Pink', 'Egg': 'Blue', 'tokenId': 75}, {'Background': 'Fire', 'dBase': 'White', 'Egg': 'Sky', 'tokenId': 76}, {'Background': 'Ocean', 'dBase': 'Original', 'Egg': 'Orange', 'tokenId': 77}, {'Background': 'Space', 'dBase': 'Pink', 'Egg': 'Blue', 'tokenId': 78}, {'Background': 'Fire', 'dBase': 'White', 'Egg': 'Orange', 'tokenId': 79}, {'Background': 'Space', 'dBase': 'White', 'Egg': 'Orange', 'tokenId': 80}, {'Background': 'Jungle', 'dBase': 'Blue', 'Egg': 'Sky', 'tokenId': 81}, {'Background': 'Jungle', 'dBase': 'Pink', 'Egg': 'Sky', 'tokenId': 82}, {'Background': 'Fire', 'dBase': 'Pink', 'Egg': 'Orange', 'tokenId': 83}, {'Background': 'Fire', 'dBase': 'Brown', 'Egg': 'Red', 'tokenId': 84}, {'Background': 'Fire', 'dBase': 'Blue', 'Egg': 'Red', 'tokenId': 85}, {'Background': 'Cave', 'dBase': 'Pink', 'Egg': 'Snow', 'tokenId': 86}, {'Background': 'Mountains', 'dBase': 'Blue', 'Egg': 'Snow', 'tokenId': 87}, {'Background': 'Cave', 'dBase': 'Pink', 'Egg': 'Gold', 'tokenId': 88}, {'Background': 'Cave', 'dBase': 'Original', 'Egg': 'Blue', 'tokenId': 89}, {'Background': 'Mountains', 'dBase': 'Brown', 'Egg': 'Blue', 'tokenId': 90}, {'Background': 'Space', 'dBase': 'Brown', 'Egg': 'Blue', 'tokenId': 91}, {'Background': 'Space', 'dBase': 'Blue', 'Egg': 'Red', 'tokenId': 92}, {'Background': 'Fire', 'dBase': 'Blue', 'Egg': 'Orange', 'tokenId': 93}, {'Background': 'Ocean', 'dBase': 'Red', 'Egg': 'Sky', 'tokenId': 94}, {'Background': 'Mountains', 'dBase': 'Blue', 'Egg': 'Gold', 'tokenId': 95}, {'Background': 'Mountains', 'dBase': 'Pink', 'Egg': 'Blue', 'tokenId': 96}, {'Background': 'Fire', 'dBase': 'Original', 'Egg': 'Blue', 'tokenId': 97}, {'Background': 'Cave', 'dBase': 'Blue', 'Egg': 'Gold', 'tokenId': 98}, {'Background': 'Mountains', 'dBase': 'Brown', 'Egg': 'Sky', 'tokenId': 99}]\n"
     ]
    }
   ],
   "source": [
    "\n",
    "print(all_images)"
   ]
  },
  {
   "cell_type": "code",
   "execution_count": null,
   "metadata": {},
   "outputs": [],
   "source": []
  },
  {
   "cell_type": "code",
   "execution_count": 8,
   "metadata": {},
   "outputs": [
    {
     "name": "stdout",
     "output_type": "stream",
     "text": [
      "{'Cave': 27, 'Fire': 16, 'Jungle': 24, 'Mountains': 10, 'Ocean': 17, 'Space': 6}\n",
      "{'Blue': 24, 'Original': 4, 'White': 21, 'Red': 12, 'Pink': 15, 'Brown': 24}\n",
      "{'Blue': 27, 'Gold': 6, 'Orange': 23, 'Sky': 12, 'Snow': 16, 'Red': 16}\n"
     ]
    }
   ],
   "source": [
    "# Get Trait Counts\n",
    "\n",
    "background_count = {}\n",
    "for item in background:\n",
    "    background_count[item] = 0\n",
    "    \n",
    "dBase_count = {}\n",
    "for item in dBase:\n",
    "    dBase_count[item] = 0\n",
    "\n",
    "egg_count = {}\n",
    "for item in egg:\n",
    "    egg_count[item] = 0\n",
    "\n",
    "for image in all_images:\n",
    "    background_count[image[\"Background\"]] += 1\n",
    "    dBase_count[image[\"dBase\"]] += 1\n",
    "    egg_count[image[\"Egg\"]] += 1\n",
    "    \n",
    "print(background_count)\n",
    "print(dBase_count)\n",
    "print(egg_count)"
   ]
  },
  {
   "cell_type": "code",
   "execution_count": null,
   "metadata": {},
   "outputs": [],
   "source": []
  },
  {
   "cell_type": "code",
   "execution_count": null,
   "metadata": {},
   "outputs": [],
   "source": []
  },
  {
   "cell_type": "code",
   "execution_count": 9,
   "metadata": {},
   "outputs": [],
   "source": [
    "#### Generate Metadata for all Traits \n",
    "METADATA_FILE_NAME = './metadata/all-traits.json'; \n",
    "with open(METADATA_FILE_NAME, 'w') as outfile:\n",
    "    json.dump(all_images, outfile, indent=4)"
   ]
  },
  {
   "cell_type": "code",
   "execution_count": null,
   "metadata": {},
   "outputs": [],
   "source": []
  },
  {
   "cell_type": "code",
   "execution_count": null,
   "metadata": {},
   "outputs": [],
   "source": []
  },
  {
   "cell_type": "code",
   "execution_count": 10,
   "metadata": {},
   "outputs": [],
   "source": [
    "#### Generate Images    \n",
    "for item in all_images:\n",
    "\n",
    "    im1 = Image.open(f'./trait-layers/backgrounds/{background_files[item[\"Background\"]]}.jpeg').convert('RGBA')\n",
    "    im2 = Image.open(f'./trait-layers/dBase/{dBase_files[item[\"dBase\"]]}.png').convert('RGBA')\n",
    "    im3 = Image.open(f'./trait-layers/Egg/{egg_files[item[\"Egg\"]]}.png').convert('RGBA')\n",
    "\n",
    "    #Create each composite\n",
    "    com1 = Image.alpha_composite(im1, im2)\n",
    "    com2 = Image.alpha_composite(com1, im3)\n",
    "\n",
    "    #Convert to RGB\n",
    "    rgb_im = com2.convert('RGB')\n",
    "    file_name = str(item[\"tokenId\"]) + \".png\"\n",
    "    rgb_im.save(\"./images/\" + file_name)"
   ]
  },
  {
   "cell_type": "code",
   "execution_count": null,
   "metadata": {},
   "outputs": [],
   "source": []
  },
  {
   "cell_type": "code",
   "execution_count": 11,
   "metadata": {},
   "outputs": [],
   "source": [
    "#### Generate Metadata for each Image    \n",
    "\n",
    "f = open('./metadata/all-traits.json',) \n",
    "data = json.load(f)\n",
    "\n",
    "\n",
    "IMAGES_BASE_URI = \"ADD_IMAGES_BASE_URI_HERE\"\n",
    "PROJECT_NAME = \"GedinSaurs\"\n",
    "\n",
    "def getAttribute(key, value):\n",
    "    return {\n",
    "        \"trait_type\": key,\n",
    "        \"value\": value\n",
    "    }\n",
    "for i in data:\n",
    "    token_id = i['tokenId']\n",
    "    token = {\n",
    "        \"image\": IMAGES_BASE_URI + str(token_id) + '.png',\n",
    "        \"tokenId\": token_id,\n",
    "        \"name\": PROJECT_NAME + ' ' + str(token_id),\n",
    "        \"attributes\": []\n",
    "    }\n",
    "    token[\"attributes\"].append(getAttribute(\"Background\", i[\"Background\"]))\n",
    "    token[\"attributes\"].append(getAttribute(\"dBase\", i[\"dBase\"]))\n",
    "    token[\"attributes\"].append(getAttribute(\"Egg\", i[\"Egg\"]))\n",
    "\n",
    "    with open('./metadata/' + str(token_id), 'w') as outfile:\n",
    "        json.dump(token, outfile, indent=4)\n",
    "f.close()"
   ]
  },
  {
   "cell_type": "code",
   "execution_count": null,
   "metadata": {},
   "outputs": [],
   "source": []
  }
 ],
 "metadata": {
  "kernelspec": {
   "display_name": "Python 3",
   "language": "python",
   "name": "python3"
  },
  "language_info": {
   "codemirror_mode": {
    "name": "ipython",
    "version": 3
   },
   "file_extension": ".py",
   "mimetype": "text/x-python",
   "name": "python",
   "nbconvert_exporter": "python",
   "pygments_lexer": "ipython3",
   "version": "3.7.4"
  }
 },
 "nbformat": 4,
 "nbformat_minor": 2
}
